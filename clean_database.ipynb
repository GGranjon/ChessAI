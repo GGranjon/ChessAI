{
 "cells": [
  {
   "cell_type": "code",
   "execution_count": 1,
   "metadata": {},
   "outputs": [],
   "source": [
    "import pandas as pd\n",
    "import numpy as np"
   ]
  },
  {
   "cell_type": "markdown",
   "metadata": {},
   "source": [
    "The data used is accessible on kaggle : https://www.kaggle.com/datasets/arevel/chess-games?resource=download, it contains 6.2M games played on lichess.\n",
    "\n",
    "In this file we will clean it by removing useless informations and making it ready to be used for our AI model."
   ]
  },
  {
   "cell_type": "code",
   "execution_count": null,
   "metadata": {},
   "outputs": [],
   "source": [
    "file = \"./data/chess_games.csv\"\n",
    "df = pd.read_csv(file)\n",
    "df.head(5)"
   ]
  },
  {
   "cell_type": "code",
   "execution_count": null,
   "metadata": {},
   "outputs": [],
   "source": [
    "# Keep only the moves in the database\n",
    "df = df[[\"AN\"]]\n",
    "print(df.iloc[0,0])\n",
    "df.head(5)\n"
   ]
  },
  {
   "cell_type": "code",
   "execution_count": 4,
   "metadata": {},
   "outputs": [],
   "source": [
    "# Remove the useless information in the move strings (the number before the moves)\n",
    "\n",
    "def clean_chess_moves(move: str) -> str:\n",
    "    elements = move.split()\n",
    "    elements = elements[:-1]    #remove the result of the game\n",
    "    clean_moves = [elem for elem in elements if '.' not in elem]\n",
    "\n",
    "    return ' '.join(clean_moves)\n",
    "\n",
    "\n",
    "for i in range(len(df)):\n",
    "    df.iloc[i,0] = clean_chess_moves(df.iloc[i,0])"
   ]
  },
  {
   "cell_type": "code",
   "execution_count": 6,
   "metadata": {},
   "outputs": [],
   "source": [
    "# Save the new dataframe\n",
    "filename = \"./data/chess_games_reduced.csv\"\n",
    "df.to_csv(filename)\n"
   ]
  },
  {
   "cell_type": "markdown",
   "metadata": {},
   "source": [
    "**AT THIS POINT, NO NEED TO RERUN ALL BEFORE**"
   ]
  },
  {
   "cell_type": "code",
   "execution_count": 3,
   "metadata": {},
   "outputs": [],
   "source": [
    "filename = \"./data/chess_games_reduced.csv\"\n",
    "\n",
    "df = pd.read_csv(filename)"
   ]
  },
  {
   "cell_type": "markdown",
   "metadata": {},
   "source": [
    "In our model, we'll represent a position as a vector of size 64\\*12 (for each square and type and color) + 16 (for potential en passants) + 4 (for castle) + 1 (turn = -1 or 1). For the types, the order will be (R,N,B,Q,K,P). For the 64\\*6, the first 6 will be for a1, the last 6 will be for h8, we will go left to right, bottom to top."
   ]
  },
  {
   "cell_type": "code",
   "execution_count": 5,
   "metadata": {},
   "outputs": [],
   "source": [
    "def getIndex(square:str)->int:\n",
    "    dico_coord = {'a':1, 'b':2, 'c':3, 'd':4, 'e':5, 'f':6, 'g':7, 'h':8}\n",
    "    x = dico_coord[square[0]]\n",
    "    y = int(square[1])\n",
    "    return 8*(y-1)+x-1"
   ]
  },
  {
   "cell_type": "code",
   "execution_count": 6,
   "metadata": {},
   "outputs": [
    {
     "name": "stdout",
     "output_type": "stream",
     "text": [
      "[0. 0. 0. 0. 0. 0. 1. 0. 0. 0. 0. 0. 0. 0. 0. 0. 0. 0. 0. 1. 0. 0. 0. 0.\n",
      " 0. 0. 0. 0. 0. 0. 0. 0. 1. 0. 0. 0. 0. 0. 0. 0. 0. 0. 0. 0. 0. 1. 0. 0.\n",
      " 0. 0. 0. 0. 0. 0. 0. 0. 0. 0. 1. 0. 0. 0. 0. 0. 0. 0. 0. 0. 1. 0. 0. 0.\n",
      " 0. 0. 0. 0. 0. 0. 0. 1. 0. 0. 0. 0. 0. 0. 0. 0. 0. 0. 1. 0. 0. 0. 0. 0.\n",
      " 0. 0. 0. 0. 0. 0. 0. 0. 0. 0. 0. 1. 0. 0. 0. 0. 0. 0. 0. 0. 0. 0. 0. 1.\n",
      " 0. 0. 0. 0. 0. 0. 0. 0. 0. 0. 0. 1. 0. 0. 0. 0. 0. 0. 0. 0. 0. 0. 0. 1.\n",
      " 0. 0. 0. 0. 0. 0. 0. 0. 0. 0. 0. 1. 0. 0. 0. 0. 0. 0. 0. 0. 0. 0. 0. 1.\n",
      " 0. 0. 0. 0. 0. 0. 0. 0. 0. 0. 0. 1. 0. 0. 0. 0. 0. 0. 0. 0. 0. 0. 0. 1.\n",
      " 0. 0. 0. 0. 0. 0. 0. 0. 0. 0. 0. 0. 0. 0. 0. 0. 0. 0. 0. 0. 0. 0. 0. 0.\n",
      " 0. 0. 0. 0. 0. 0. 0. 0. 0. 0. 0. 0. 0. 0. 0. 0. 0. 0. 0. 0. 0. 0. 0. 0.\n",
      " 0. 0. 0. 0. 0. 0. 0. 0. 0. 0. 0. 0. 0. 0. 0. 0. 0. 0. 0. 0. 0. 0. 0. 0.\n",
      " 0. 0. 0. 0. 0. 0. 0. 0. 0. 0. 0. 0. 0. 0. 0. 0. 0. 0. 0. 0. 0. 0. 0. 0.\n",
      " 0. 0. 0. 0. 0. 0. 0. 0. 0. 0. 0. 0. 0. 0. 0. 0. 0. 0. 0. 0. 0. 0. 0. 0.\n",
      " 0. 0. 0. 0. 0. 0. 0. 0. 0. 0. 0. 0. 0. 0. 0. 0. 0. 0. 0. 0. 0. 0. 0. 0.\n",
      " 0. 0. 0. 0. 0. 0. 0. 0. 0. 0. 0. 0. 0. 0. 0. 0. 0. 0. 0. 0. 0. 0. 0. 0.\n",
      " 0. 0. 0. 0. 0. 0. 0. 0. 0. 0. 0. 0. 0. 0. 0. 0. 0. 0. 0. 0. 0. 0. 0. 0.\n",
      " 0. 0. 0. 0. 0. 0. 0. 0. 0. 0. 0. 0. 0. 0. 0. 0. 0. 0. 0. 0. 0. 0. 0. 0.\n",
      " 0. 0. 0. 0. 0. 0. 0. 0. 0. 0. 0. 0. 0. 0. 0. 0. 0. 0. 0. 0. 0. 0. 0. 0.\n",
      " 0. 0. 0. 0. 0. 0. 0. 0. 0. 0. 0. 0. 0. 0. 0. 0. 0. 0. 0. 0. 0. 0. 0. 0.\n",
      " 0. 0. 0. 0. 0. 0. 0. 0. 0. 0. 0. 0. 0. 0. 0. 0. 0. 0. 0. 0. 0. 0. 0. 0.\n",
      " 0. 0. 0. 0. 0. 0. 0. 0. 0. 0. 0. 0. 0. 0. 0. 0. 0. 0. 0. 0. 0. 0. 0. 0.\n",
      " 0. 0. 0. 0. 0. 0. 0. 0. 0. 0. 0. 0. 0. 0. 0. 0. 0. 0. 0. 0. 0. 0. 0. 0.\n",
      " 0. 0. 0. 0. 0. 0. 0. 0. 0. 0. 0. 0. 0. 0. 0. 0. 0. 0. 0. 0. 0. 0. 0. 0.\n",
      " 0. 0. 0. 0. 0. 0. 0. 0. 0. 0. 0. 0. 0. 0. 0. 0. 0. 0. 0. 0. 0. 0. 0. 0.\n",
      " 0. 0. 0. 0. 0. 1. 0. 0. 0. 0. 0. 0. 0. 0. 0. 0. 0. 1. 0. 0. 0. 0. 0. 0.\n",
      " 0. 0. 0. 0. 0. 1. 0. 0. 0. 0. 0. 0. 0. 0. 0. 0. 0. 1. 0. 0. 0. 0. 0. 0.\n",
      " 0. 0. 0. 0. 0. 1. 0. 0. 0. 0. 0. 0. 0. 0. 0. 0. 0. 1. 0. 0. 0. 0. 0. 0.\n",
      " 0. 0. 0. 0. 0. 1. 0. 0. 0. 0. 0. 0. 0. 0. 0. 0. 0. 1. 0. 0. 0. 0. 0. 0.\n",
      " 1. 0. 0. 0. 0. 0. 0. 0. 0. 0. 0. 0. 0. 1. 0. 0. 0. 0. 0. 0. 0. 0. 0. 0.\n",
      " 0. 0. 1. 0. 0. 0. 0. 0. 0. 0. 0. 0. 0. 0. 0. 1. 0. 0. 0. 0. 0. 0. 0. 0.\n",
      " 0. 0. 0. 0. 1. 0. 0. 0. 0. 0. 0. 0. 0. 0. 1. 0. 0. 0. 0. 0. 0. 0. 0. 0.\n",
      " 0. 1. 0. 0. 0. 0. 0. 0. 0. 0. 0. 0. 1. 0. 0. 0. 0. 0. 0. 0. 0. 0. 0. 0.\n",
      " 0. 0. 0. 0. 0. 0. 0. 0. 0. 0. 0. 0. 0. 0. 0. 0. 1. 1. 1. 1. 1.]\n"
     ]
    }
   ],
   "source": [
    "def toIndex(pos:str, type:str, color:int)->int:\n",
    "    \"\"\"ex : a1 -> 0, b1 -> 1, a2 -> 8, etc.\n",
    "    color : 1 for white, 0 for black\"\"\"\n",
    "\n",
    "    dico_type = {'R':0, 'N':1, 'B':2, 'Q':3, 'K':4, 'P':5}\n",
    "    type = type.upper()\n",
    "    square_index = getIndex(pos)\n",
    "    type_index = dico_type[type]\n",
    "\n",
    "    return 12*square_index + 6*color + type_index\n",
    "\n",
    "init_board_white = [[\"a1\", \"R\", 1],[\"b1\", \"N\", 1],[\"c1\", \"B\", 1],[\"d1\", \"Q\", 1],[\"e1\", \"K\", 1],[\"f1\", \"B\", 1],[\"g1\", \"N\", 1],[\"h1\", \"R\", 1],[\"a2\", \"P\", 1],[\"b2\", \"P\", 1],[\"c2\", \"P\", 1],[\"d2\", \"P\", 1],[\"e2\", \"P\", 1],[\"f2\", \"P\", 1],[\"g2\", \"P\", 1],[\"h2\", \"P\", 1]]\n",
    "init_board_black = [[\"a8\", \"R\", 0],[\"b8\", \"N\", 0],[\"c8\", \"B\", 0],[\"d8\", \"Q\", 0],[\"e8\", \"K\", 0],[\"f8\", \"B\", 0],[\"g8\", \"N\", 0],[\"h8\", \"R\", 0],[\"a7\", \"P\", 0],[\"b7\", \"P\", 0],[\"c7\", \"P\", 0],[\"d7\", \"P\", 0],[\"e7\", \"P\", 0],[\"f7\", \"P\", 0],[\"g7\", \"P\", 0],[\"h7\", \"P\", 0]]\n",
    "\n",
    "index_for_1 = [toIndex(*elt) for elt in init_board_white] + [toIndex(*elt) for elt in init_board_black] + [784, 785, 786, 787, 788]   #castle and turn\n",
    "\n",
    "board_size = 64*12+16+4+1\n",
    "init_board = np.zeros(board_size)\n",
    "init_board[index_for_1] = 1\n",
    "print(init_board)"
   ]
  },
  {
   "cell_type": "code",
   "execution_count": 9,
   "metadata": {},
   "outputs": [],
   "source": [
    "def getMoveIndex(move:str)->int:\n",
    "    if len(move) == 2:\n",
    "        #c'est un pion\n",
    "        return getIndex(move)\n",
    "    else:\n",
    "        return getIndex(move[1:3])"
   ]
  },
  {
   "cell_type": "code",
   "execution_count": 19,
   "metadata": {},
   "outputs": [
    {
     "name": "stdout",
     "output_type": "stream",
     "text": [
      "[5, 127]\n"
     ]
    }
   ],
   "source": [
    "\n",
    "def getMoveVector(previous_move, new_move):\n",
    "    \"\"\"Na2, Nf3 -> vector representing (a2 -> f3)\n",
    "    Renvoie un vecteur de taille 64*2\n",
    "    avec la case de départ et la case d'arrivée (représenté par un 1)\"\"\"\n",
    "    vector = np.zeros(128)\n",
    "    index_pre = getMoveIndex(previous_move)\n",
    "    index_new = getMoveIndex(new_move)\n",
    "    vector[index_pre] = 1\n",
    "    vector[64 + index_new] = 1\n",
    "    return vector\n",
    "\n",
    "def getMoveCoords(previous_move, new_move):\n",
    "    \"\"\"Na2, Nf3 -> [coord of a2, coord of f3]\"\"\"\n",
    "    vector = np.zeros(128)\n",
    "    index_pre = getMoveIndex(previous_move)\n",
    "    index_new = getMoveIndex(new_move)\n",
    "    return [index_pre, 64 + index_new]\n",
    "\n",
    "def getNewBoard(previous_board, previous_move, move, color):\n",
    "    \"\"\"previous board : represented as an array, moves : string (Nf3)\"\"\"\n",
    "\n",
    "\n",
    "print(getMoveCoords(\"Nf1\", \"h8\"))"
   ]
  }
 ],
 "metadata": {
  "kernelspec": {
   "display_name": "Python 3",
   "language": "python",
   "name": "python3"
  },
  "language_info": {
   "codemirror_mode": {
    "name": "ipython",
    "version": 3
   },
   "file_extension": ".py",
   "mimetype": "text/x-python",
   "name": "python",
   "nbconvert_exporter": "python",
   "pygments_lexer": "ipython3",
   "version": "3.12.4"
  }
 },
 "nbformat": 4,
 "nbformat_minor": 2
}
